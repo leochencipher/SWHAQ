{
 "cells": [
  {
   "cell_type": "code",
   "execution_count": 1,
   "metadata": {},
   "outputs": [],
   "source": [
    "%matplotlib inline\n",
    " \n",
    "import logging\n",
    "import sys\n",
    "import re\n",
    "from os.path import join as pjoin\n",
    "from glob import glob\n",
    "\n",
    "import xarray\n",
    "import netCDF4\n",
    "import cftime\n",
    "import numpy as np\n",
    "import pandas as pd\n",
    "import seaborn as sns\n",
    "import scipy.stats as stats\n",
    "from matplotlib import pyplot as plt\n",
    "\n",
    "import matplotlib.patches as mpatches\n",
    "import cartopy.crs as ccrs\n",
    "import cartopy.feature as feature\n",
    "import scipy.stats as stats\n",
    "import Utilities.metutils"
   ]
  },
  {
   "cell_type": "code",
   "execution_count": 2,
   "metadata": {},
   "outputs": [
    {
     "name": "stdout",
     "output_type": "stream",
     "text": [
      "16:29:13: <module>: Started /home/jami/.anaconda3/envs/tcrm-r/lib/python3.7/site-packages/ipykernel_launcher.py (pid 15116)\n",
      "16:29:13: <module>: Code version: funknown\n"
     ]
    }
   ],
   "source": [
    "sys.path.append('../scripts')\n",
    "import TCLVscaling\n",
    "logging.disable(logging.INFO)"
   ]
  },
  {
   "cell_type": "code",
   "execution_count": 3,
   "metadata": {},
   "outputs": [],
   "source": [
    "simulated_track_path = \"../data/tclv\"\n",
    "PI_path = \"../data/PI\"\n",
    "domain = [135, 160, -25, -10]"
   ]
  },
  {
   "cell_type": "code",
   "execution_count": 4,
   "metadata": {},
   "outputs": [
    {
     "name": "stdout",
     "output_type": "stream",
     "text": [
      "../data/tclv/all_tracks_ACCESS1-0Q_rcp45.dat\r\n"
     ]
    }
   ],
   "source": [
    "ls \"../data/tclv/all_tracks_ACCESS1-0Q_rcp45.dat\""
   ]
  },
  {
   "cell_type": "code",
   "execution_count": 5,
   "metadata": {},
   "outputs": [],
   "source": [
    "def plot_model_dists(data):\n",
    "    fig, axes = plt.subplots(6,4, figsize=(20,20), sharex=True)\n",
    "    ax = axes.flatten()\n",
    "    result = pd.DataFrame(columns=['Model', 'RCP', 'mu', 'sigma', 'zeta'])\n",
    "    for i, (m, df) in enumerate(data.items()):\n",
    "        sns.distplot(df.pdiff, ax=ax[i], kde=False, norm_hist=True)\n",
    "        model, rcp = m.split(' ')\n",
    "        popt = stats.lognorm.fit(df.pdiff, loc=0, scale=1)\n",
    "        result = result.append({'Model':model, 'RCP':rcp, \n",
    "                                'mu':popt[0], 'sigma':popt[1], 'zeta':popt[2]},\n",
    "                               ignore_index=True)\n",
    "        fitline = stats.lognorm.pdf(np.arange(0, 101), *popt, )\n",
    "        ax[i].plot(np.arange(0,101), fitline, color='r')\n",
    "        ax[i].set_title(\"{0}\\n({1:.4f}, {2:.4f}, {3:.4f})\".format(m, *popt))\n",
    "    \n",
    "    fig.tight_layout()\n",
    "\n",
    "    return result   \n",
    "\n",
    "def plot_model_params(params):\n",
    "    fig, ax = plt.subplots(1, 2, figsize=(12,5), sharey=True)\n",
    "    x = np.arange(0, 100)\n",
    "\n",
    "    def plot_ensemble(axes, ensemble):\n",
    "        for index, row in refparams[refparams['RCP']==ensemble].iterrows():\n",
    "            popt = (row.mu, row.sigma, row.zeta)\n",
    "            fitline = stats.lognorm.pdf(x, *popt)\n",
    "            if row.Model == 'ENS':\n",
    "                axes.plot(x, fitline, color='b')\n",
    "            else:\n",
    "                axes.plot(x, fitline, color='k')\n",
    "\n",
    "        axes.plot(x, stats.lognorm.pdf(x, *obsparams), 'r', label='Observations')\n",
    "        axes.set_xlabel(r\"$\\Delta p_c$ (hPa)\")\n",
    "    \n",
    "    plot_ensemble(ax[0], 'RCP45')\n",
    "    ax[0].set_title(\"RCP4.5\")\n",
    "\n",
    "    plot_ensemble(ax[1], 'RCP85')\n",
    "    ax[1].set_title(\"RCP8.5\")\n",
    "\n",
    "    ax[0].set_ylabel(\"Probability\")\n",
    "    ax[1].legend()\n",
    "    fig.tight_layout()"
   ]
  },
  {
   "cell_type": "code",
   "execution_count": 6,
   "metadata": {},
   "outputs": [],
   "source": [
    "def get_lmi(df):\n",
    "    return df.loc[df.groupby('num')[\"pdiff\"].idxmax()].set_index(['num'])"
   ]
  },
  {
   "cell_type": "code",
   "execution_count": 7,
   "metadata": {},
   "outputs": [],
   "source": [
    "def dtnl(dt):\n",
    "    return cftime.DatetimeNoLeap(dt.year, dt.month, dt.day, hour=dt.hour, minute=dt.minute, second=dt.second)"
   ]
  },
  {
   "cell_type": "code",
   "execution_count": 8,
   "metadata": {},
   "outputs": [],
   "source": [
    "obstc = TCLVscaling.loadObsData('../data/ibtracs.since1980.list.v04r00.csv', domain)"
   ]
  },
  {
   "cell_type": "code",
   "execution_count": 9,
   "metadata": {},
   "outputs": [],
   "source": [
    "refdata = TCLVscaling.loadTCLVdata(simulated_track_path, 1980, 2010, domain)\n",
    "for key, df in refdata.items():\n",
    "    refdata[key] = df[df['pdiff'] > 0]\n",
    "refdata = TCLVscaling.append_ensembles(refdata)"
   ]
  },
  {
   "cell_type": "code",
   "execution_count": 10,
   "metadata": {},
   "outputs": [],
   "source": [
    "futdata = TCLVscaling.loadTCLVdata(simulated_track_path, 2020, 2100, domain)\n",
    "for key, df in futdata.items():\n",
    "    futdata[key] = df[df['pdiff'] > 0]\n",
    "futdata = TCLVscaling.append_ensembles(futdata)"
   ]
  },
  {
   "cell_type": "code",
   "execution_count": 11,
   "metadata": {},
   "outputs": [],
   "source": [
    "brefdata = {}\n",
    "bfutdata = {}\n",
    "obslmi = obstc.loc[obstc.groupby([\"num\"])[\"pdiff\"].idxmax()]\n",
    "\n",
    "for i, (m, refdf) in enumerate(refdata.items()):\n",
    "    futdf = futdata[m]\n",
    "         \n",
    "    # Determine LMI for each event in the reference and projected data\n",
    "    try:\n",
    "        srefdata = get_lmi(refdf)\n",
    "        sfutdata = get_lmi(futdf)\n",
    "    except:\n",
    "        print(f\"Reference data: {refdf.groupby('num')['pdiff'].idxmax():.2f}\")\n",
    "        print(f\"Projected data: {futdf.groupby('num')['pdiff'].idxmax():.2f}\")\n",
    "        \n",
    "    # Calculate the bias-corrected LMI\n",
    "    try:\n",
    "        srefdata['blmi'], sfutdata['blmi'] = TCLVscaling.qdm(obslmi.pdiff.values,\n",
    "                                                             srefdata.pdiff.values,\n",
    "                                                             sfutdata.pdiff.values)\n",
    "    except:\n",
    "        print(f\"QDM failed for {m}\")\n",
    "        raise\n",
    "        \n",
    "    brefdf = refdf.copy()\n",
    "    bfutdf = futdf.copy()\n",
    "    \n",
    "    newdf = pd.merge(brefdf, srefdata['blmi'], on='num')\n",
    "    brefdf['pdiff'] = brefdf['ni'].values * newdf['blmi'].values\n",
    "    brefdf['pmin'] = brefdf['poci'] - brefdf['pdiff']\n",
    "    brefdf = TCLVscaling.calculateMaxWind(brefdf, 'datetime')\n",
    "\n",
    "    newdf = pd.merge(bfutdf, sfutdata['blmi'], on='num')\n",
    "    bfutdf['pdiff'] = bfutdf['ni'].values * newdf['blmi'].values\n",
    "    bfutdf['pmin'] = bfutdf['poci'] - bfutdf['pdiff']\n",
    "    bfutdf = TCLVscaling.calculateMaxWind(bfutdf, 'datetime')\n",
    "    \n",
    "    brefdata[m] = brefdf\n",
    "    bfutdata[m] = bfutdf"
   ]
  },
  {
   "cell_type": "code",
   "execution_count": 12,
   "metadata": {},
   "outputs": [],
   "source": [
    "model = 'MPI-ESM-LRQ'\n",
    "rcp = 'RCP45'"
   ]
  },
  {
   "cell_type": "code",
   "execution_count": 20,
   "metadata": {},
   "outputs": [],
   "source": [
    "lmi = get_lmi(bfutdata[model + ' ' + rcp])[['datetime', 'year', 'lat', 'lon', 'vmax']]"
   ]
  },
  {
   "cell_type": "code",
   "execution_count": 21,
   "metadata": {},
   "outputs": [],
   "source": [
    "data = xarray.concat([xarray.open_dataset(fl)\n",
    "                      for fl in sorted(glob(pjoin(PI_path, f\"pcmin.{model}_{rcp.lower()}.*.nc\")))], dim='time')"
   ]
  },
  {
   "cell_type": "code",
   "execution_count": 22,
   "metadata": {},
   "outputs": [],
   "source": [
    "lmi['vmax_td'] = lmi.apply(lambda x: data.vmax.sel(latitude=x.lat,\n",
    "                                                   longitude=x.lon,\n",
    "                                                   time=dtnl(x.datetime), method='nearest'),\n",
    "                           axis='columns')"
   ]
  },
  {
   "cell_type": "code",
   "execution_count": 23,
   "metadata": {},
   "outputs": [],
   "source": [
    "lmi[\"vmax_td\"] = Utilities.metutils.convert(lmi[\"vmax_td\"], \"mps\", \"kts\")"
   ]
  },
  {
   "cell_type": "code",
   "execution_count": 24,
   "metadata": {},
   "outputs": [
    {
     "data": {
      "text/html": [
       "<div>\n",
       "<style scoped>\n",
       "    .dataframe tbody tr th:only-of-type {\n",
       "        vertical-align: middle;\n",
       "    }\n",
       "\n",
       "    .dataframe tbody tr th {\n",
       "        vertical-align: top;\n",
       "    }\n",
       "\n",
       "    .dataframe thead th {\n",
       "        text-align: right;\n",
       "    }\n",
       "</style>\n",
       "<table border=\"1\" class=\"dataframe\">\n",
       "  <thead>\n",
       "    <tr style=\"text-align: right;\">\n",
       "      <th></th>\n",
       "      <th>datetime</th>\n",
       "      <th>year</th>\n",
       "      <th>lat</th>\n",
       "      <th>lon</th>\n",
       "      <th>vmax</th>\n",
       "      <th>vmax_td</th>\n",
       "    </tr>\n",
       "    <tr>\n",
       "      <th>num</th>\n",
       "      <th></th>\n",
       "      <th></th>\n",
       "      <th></th>\n",
       "      <th></th>\n",
       "      <th></th>\n",
       "      <th></th>\n",
       "    </tr>\n",
       "  </thead>\n",
       "  <tbody>\n",
       "    <tr>\n",
       "      <th>2350</th>\n",
       "      <td>2020-01-24 12:00:00</td>\n",
       "      <td>2020</td>\n",
       "      <td>-23.2</td>\n",
       "      <td>155.1</td>\n",
       "      <td>57.554114</td>\n",
       "      <td>88.690454</td>\n",
       "    </tr>\n",
       "    <tr>\n",
       "      <th>2351</th>\n",
       "      <td>2020-01-22 00:00:00</td>\n",
       "      <td>2020</td>\n",
       "      <td>-14.1</td>\n",
       "      <td>144.3</td>\n",
       "      <td>29.807277</td>\n",
       "      <td>116.189707</td>\n",
       "    </tr>\n",
       "    <tr>\n",
       "      <th>2355</th>\n",
       "      <td>2020-01-25 00:00:00</td>\n",
       "      <td>2020</td>\n",
       "      <td>-13.7</td>\n",
       "      <td>137.3</td>\n",
       "      <td>28.944184</td>\n",
       "      <td>129.164259</td>\n",
       "    </tr>\n",
       "    <tr>\n",
       "      <th>2356</th>\n",
       "      <td>2020-02-05 18:00:00</td>\n",
       "      <td>2020</td>\n",
       "      <td>-14.6</td>\n",
       "      <td>137.1</td>\n",
       "      <td>76.137693</td>\n",
       "      <td>133.326331</td>\n",
       "    </tr>\n",
       "    <tr>\n",
       "      <th>2360</th>\n",
       "      <td>2020-03-01 00:00:00</td>\n",
       "      <td>2020</td>\n",
       "      <td>-13.1</td>\n",
       "      <td>157.2</td>\n",
       "      <td>32.009658</td>\n",
       "      <td>119.062414</td>\n",
       "    </tr>\n",
       "    <tr>\n",
       "      <th>...</th>\n",
       "      <td>...</td>\n",
       "      <td>...</td>\n",
       "      <td>...</td>\n",
       "      <td>...</td>\n",
       "      <td>...</td>\n",
       "      <td>...</td>\n",
       "    </tr>\n",
       "    <tr>\n",
       "      <th>6018</th>\n",
       "      <td>2097-12-25 00:00:00</td>\n",
       "      <td>2097</td>\n",
       "      <td>-14.7</td>\n",
       "      <td>136.8</td>\n",
       "      <td>34.147252</td>\n",
       "      <td>139.003801</td>\n",
       "    </tr>\n",
       "    <tr>\n",
       "      <th>6019</th>\n",
       "      <td>2097-12-26 12:00:00</td>\n",
       "      <td>2097</td>\n",
       "      <td>-17.0</td>\n",
       "      <td>158.4</td>\n",
       "      <td>29.925592</td>\n",
       "      <td>102.887303</td>\n",
       "    </tr>\n",
       "    <tr>\n",
       "      <th>6023</th>\n",
       "      <td>2098-02-10 00:00:00</td>\n",
       "      <td>2098</td>\n",
       "      <td>-15.9</td>\n",
       "      <td>150.0</td>\n",
       "      <td>45.663932</td>\n",
       "      <td>108.993272</td>\n",
       "    </tr>\n",
       "    <tr>\n",
       "      <th>6036</th>\n",
       "      <td>2099-03-21 06:00:00</td>\n",
       "      <td>2099</td>\n",
       "      <td>-15.0</td>\n",
       "      <td>150.6</td>\n",
       "      <td>63.988880</td>\n",
       "      <td>102.192520</td>\n",
       "    </tr>\n",
       "    <tr>\n",
       "      <th>6050</th>\n",
       "      <td>2099-10-16 06:00:00</td>\n",
       "      <td>2099</td>\n",
       "      <td>-10.7</td>\n",
       "      <td>162.3</td>\n",
       "      <td>29.133731</td>\n",
       "      <td>90.333196</td>\n",
       "    </tr>\n",
       "  </tbody>\n",
       "</table>\n",
       "<p>437 rows × 6 columns</p>\n",
       "</div>"
      ],
      "text/plain": [
       "                datetime  year   lat    lon       vmax     vmax_td\n",
       "num                                                               \n",
       "2350 2020-01-24 12:00:00  2020 -23.2  155.1  57.554114   88.690454\n",
       "2351 2020-01-22 00:00:00  2020 -14.1  144.3  29.807277  116.189707\n",
       "2355 2020-01-25 00:00:00  2020 -13.7  137.3  28.944184  129.164259\n",
       "2356 2020-02-05 18:00:00  2020 -14.6  137.1  76.137693  133.326331\n",
       "2360 2020-03-01 00:00:00  2020 -13.1  157.2  32.009658  119.062414\n",
       "...                  ...   ...   ...    ...        ...         ...\n",
       "6018 2097-12-25 00:00:00  2097 -14.7  136.8  34.147252  139.003801\n",
       "6019 2097-12-26 12:00:00  2097 -17.0  158.4  29.925592  102.887303\n",
       "6023 2098-02-10 00:00:00  2098 -15.9  150.0  45.663932  108.993272\n",
       "6036 2099-03-21 06:00:00  2099 -15.0  150.6  63.988880  102.192520\n",
       "6050 2099-10-16 06:00:00  2099 -10.7  162.3  29.133731   90.333196\n",
       "\n",
       "[437 rows x 6 columns]"
      ]
     },
     "execution_count": 24,
     "metadata": {},
     "output_type": "execute_result"
    }
   ],
   "source": [
    "lmi"
   ]
  },
  {
   "cell_type": "code",
   "execution_count": 25,
   "metadata": {},
   "outputs": [
    {
     "data": {
      "image/png": "[encoded data removed]",
      "text/plain": [
       "<Figure size 432x288 with 1 Axes>"
      ]
     },
     "metadata": {
      "needs_background": "light"
     },
     "output_type": "display_data"
    }
   ],
   "source": [
    "# after conversion\n",
    "ax = lmi.plot.scatter('vmax_td', 'vmax')\n",
    "ax.plot(np.linspace(0, 100), np.linspace(0, 100))\n",
    "plt.ylabel(\"vmax in (kts)\")\n",
    "plt.xlabel(\"vmax from thermodynamics (kts)\")\n",
    "plt.savefig(\"comparison of PI vs vmax\")"
   ]
  },
  {
   "cell_type": "code",
   "execution_count": null,
   "metadata": {},
   "outputs": [],
   "source": []
  },
  {
   "cell_type": "code",
   "execution_count": null,
   "metadata": {},
   "outputs": [],
   "source": []
  }
 ],
 "metadata": {
  "kernelspec": {
   "display_name": "Python 3",
   "language": "python",
   "name": "python3"
  },
  "language_info": {
   "codemirror_mode": {
    "name": "ipython",
    "version": 3
   },
   "file_extension": ".py",
   "mimetype": "text/x-python",
   "name": "python",
   "nbconvert_exporter": "python",
   "pygments_lexer": "ipython3",
   "version": "3.7.6"
  }
 },
 "nbformat": 4,
 "nbformat_minor": 4
}
